{
 "cells": [
  {
   "cell_type": "code",
   "execution_count": 1,
   "id": "a2fe92ed",
   "metadata": {},
   "outputs": [
    {
     "data": {
      "text/plain": [
       "6"
      ]
     },
     "execution_count": 1,
     "metadata": {},
     "output_type": "execute_result"
    }
   ],
   "source": [
    "3*2\n"
   ]
  },
  {
   "cell_type": "code",
   "execution_count": 2,
   "id": "0eee0b67",
   "metadata": {},
   "outputs": [
    {
     "data": {
      "text/plain": [
       "630"
      ]
     },
     "execution_count": 2,
     "metadata": {},
     "output_type": "execute_result"
    }
   ],
   "source": [
    "30 * 21\n"
   ]
  },
  {
   "cell_type": "code",
   "execution_count": 2,
   "id": "9e63e082",
   "metadata": {},
   "outputs": [
    {
     "name": "stdout",
     "output_type": "stream",
     "text": [
      "Daniela went to Jupiter in 2019\n"
     ]
    }
   ],
   "source": [
    "name = \"Daniela\"\n",
    "place = \"Jupiter\"\n",
    "print(name, 'went to', place, 'in 2019')"
   ]
  },
  {
   "cell_type": "code",
   "execution_count": null,
   "id": "5d6b6d27",
   "metadata": {},
   "outputs": [],
   "source": []
  }
 ],
 "metadata": {
  "kernelspec": {
   "display_name": "Python 3 (ipykernel)",
   "language": "python",
   "name": "python3"
  },
  "language_info": {
   "codemirror_mode": {
    "name": "ipython",
    "version": 3
   },
   "file_extension": ".py",
   "mimetype": "text/x-python",
   "name": "python",
   "nbconvert_exporter": "python",
   "pygments_lexer": "ipython3",
   "version": "3.9.7"
  }
 },
 "nbformat": 4,
 "nbformat_minor": 5
}
